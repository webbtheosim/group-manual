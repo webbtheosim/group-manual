{
 "cells": [
  {
   "cell_type": "markdown",
   "id": "c99a3854",
   "metadata": {},
   "source": [
    "# EXERCISES"
   ]
  },
  {
   "cell_type": "markdown",
   "id": "27c37b26",
   "metadata": {},
   "source": [
    "## Philosophy\n",
    "\n",
    "All graduate students in the group will be \"forced\" to engage in a series of exercises related to molecular simulation before really getting started in \"real research.\" Series A focuses on molecular simulation, and Series B (yet-to-be-developed) focuses on machine learning. The primary purpose of these exercises is to expose students to essential elements in these disciplines and provide a firm foundation to understand literature and pursue research in the area. Interested prospective students may also elect to try out these exercises, prior to joining the group, to gauge interest in computational research (although admittedly, these are not the sexiest of topics!) or to get a headstart in research in the group (by timeshifting these exercises from early spring  after matriculation to sometime in the first semester/winter break). \n",
    "\n",
    "**Note on implementation**: In terms of programming language, you can use whatever you want. Even if slow, the simulations can be feasibly accomplished using interpreted languages. As a first recommendation, I would probably recommend Python for both series. However, for Series A, it would also be quite reasonable and worthwhile to write some programs in *C* or *FORTRAN*, and perhaps you could perform analysis in Python. Using a compiled language forces you to think more about some mechanical aspects of algorithm implementation and coding, in general, that can pay dividends. It is also possible to write some routines in a compiled language to accelerate an overarching Python code. Jupyter notebooks or powerpoint slides are a good way to share your results.\n",
    "\n",
    "**Note on resources**: Most of these tasks can be found as examples in textbooks or courses, and so it would be very easy to copy the code from a relevant resource. Use whatever resources you want (**FS**, **AT**, [Shell course](https://sites.engineering.ucsb.edu/~shell/che210d/)), but in a marked exception from my typical coding hierarchy of importance, in this instance, you *must* understand what the the code is doing and what the algorithms are doing.\n",
    "\n",
    "**Note on timing**: These exercises take variably long depending on your prior knowledge and comfort level with the required skills/tools. G1 students also always have other responsibilities and time commitments, but they can still usually find pockets of time here and there to make progress. About a week is as short as I have seen (the exercises are quite similar to those that you would find in a molecular simulation course, and so, in this case, the student could make use of that work). For a person with reasonable programming experience but little exposure to molecular simulation, a few weeks is probably adequate for Series A. If you are starting from scratch with programming, then that extends the timescale a bit. In the grand scheme of things, it should constitute an insignificant period of time.\n",
    "\n",
    "**Note on brevity/lack of detail**: \"It's all part of the plan.\" -- The Joker // Without a literal prescription on how to proceed with every detail, you will have to spend more time with references and thinking about the implementation of code/analysis. You will recognize just how many choices go into doing something deceptively simple. *My advice:* start simple and consider ways that you can benchmark or validate your code as you proceed. For example, once you think you have a working code/method of analysis, you can find a result to reproduce from a textbook/paper using exactly the indicated conditions.  \n",
    "\n",
    "***Series A: Fundamentals of Molecular Simulation***\n",
    "\n",
    "By thoughtfully completing the exercises in this exercise, you will\n",
    "\n",
    "1. develop/demonstrate basic programming proficiency. If you possess only limited exposure to programming, then this is the time to learn with dedicated study! We cannot shortchange this. The goal here, however, is proficiency not expertise. This can also be a good opportunity to learn an unfamiliar language or programming paradigm.\n",
    "2. gain detailed understanding of key algorithms that underlie moleclar simulation. You will also then be able to understand limitations of the algorithms. Fundamental understanding equips you to more readily diagnose issues when they arise.\n",
    "3. be equipped to make connections between molecular simulation, statistical mechanics, and macroscopic properties.\n",
    "4. understand common forms of analysis, error estimation, and visualization\n",
    "\n",
    "***Series B: Fundamentals of Machine Learning in Chemistry***\n",
    "\n",
    "By thoughtfully completing the exercises in this exercise, you will... <TBD>\n"
   ]
  },
  {
   "cell_type": "markdown",
   "id": "98905d06",
   "metadata": {},
   "source": [
    "## A. Fundamentals of Molecular Simulation \n",
    "\n",
    "### Task 1. Monte Carlo Simulation of a Lennard-Jones Fluid\n",
    "\n",
    "**Objective(s):** the goal of this exercise is to write a code to perform *Monte Carlo simulation* of a simple Lennard-Jones fluid in three dimensions in the NVT/canonical ensemble ( fixed particle number, volume, and temperature). The data generated by the simulations will be used to perform some linchpin analyses. \n",
    "\n",
    "**Some details/hints:**\n",
    "* A Lennard-Jones fluid is an archetypal, particle-based model for simple substances. The particles interact via a [Lennard-Jones](https://en.wikipedia.org/wiki/Lennard-Jones_potential) (or 12-6) potential. This potential is extensively used in molecular simulation to describe intermolecular interactions.\n",
    "* Use cubic, periodic boundary conditions\n",
    "* To obtain reasonable results, your systems need not contain more than 256 particles\n",
    "* Your code should be flexible enough to allow for specification of the thermodynamic constraints (e.g., density and temperature). \n",
    "* Your code should use a cutoff distance for the interactions between two particles. I recommend using a truncate-and-shift approach. \n",
    "* Simple, single-particle displacment moves are sufficient. Consider the maximum displacement as a tunable parameter and how this impacts the frequency with which proposed moves are accepted.    \n",
    "\n",
    "**Recommended Resource(s)**: **FS** \n",
    "\n",
    "**Target(s)/Questions:** \n",
    "\n",
    "a.) In Monte Carlo, you typically want moves that are not accepted a fair percentage of the time that they are proposed. A good, initial rule-of-thumb is perhaps 40% of moves should be accepted. Can you make sense of this idea? How does the maximum displacement size affect the \"acceptance rate\" of proposed MC moves. How do you expect this acceptance rate to change as a function of temperature?\n",
    "\n",
    "b.) Estimate a constant-volume heat capacity $C_v$ when the system is a gas versus a liquid (the representative gas and liquid need not be at coexistence/can be at different temperatures).\n",
    "\n",
    "c.) Obtain a numerical equation of state (pressure vs. density) for two isotherms (one above and one below the critical temperature). What does it mean for a system to exhibit negative pressure? Write a function to output the coordinates of particles in your system (if you haven't already) and create visualizations of your systems for a few representative state points using a visualization software. \n",
    "\n",
    "d.) Compute and plot pair radial distribution functions for two thermodynamic conditions: one in the gas-phase and the other a liquid. Remark on their characteristics.\n",
    "\n",
    "### Task 2. Molecular Dynamics Simulation of a Lennard-Jones Fluid\n",
    "\n",
    "**Objective(s):** the goal of this exercise is to write a code to perform a *molecular dynamics simulation* of a simple Lennard-Jones fluid in three dimensions. Simulations will be run in both the NVE/microcanonical ensemble (fixed particle number, volume, and energy) as well as a pseudo canonical ensemble. In addition to reproducing some prior analyses, dynamical characterization will be introduced.\n",
    "\n",
    "**Some details/hints:**\n",
    "* You can generate your MD code by modification of your MC code with pretty modest modifications.\n",
    "* I would recommend time integration by the velocity-Verlet scheme (yielding positions and velocities at the same time points)\n",
    "* Improved statistical convergence of per-particle quantities can be facilitated by exploiting the fact distinct particles are nominally independent. When considering time-dependent quantities, note that $t =0 $ is arbitrary, and you can have many effectively uncorrelated samples for a given $\\Delta t$ from within the same trajectory. \n",
    "* Pay special attention to the handling of periodic boundaries. \n",
    "* If your particle coordinates are always *in* the confines of your defined periodic simulation cell, note that you can reconstruct a particle trajectory by summation of displacements between sampled frames (so long as the sampling frequency is confidently less than the time for a particle to diffuse half the box length).\n",
    "\n",
    "**Recommended Resource(s)**: **FS** or **AT**\n",
    "\n",
    "**Target(s)/Questions:** \n",
    "\n",
    "a.) Begin by implementing vanilla MD, which should correspond to simulation in the NVE ensemble. Why?\n",
    "\n",
    "b.) What physically sets the timestep for numerical integration of the equations of motion? What practically determines its value? Demonstrate how the timestep affects the simulation by monitoring the total energy as a function of time for different timesteps.\n",
    "\n",
    "c.) Running an NVE simulation, determine the average temperature of the system. Also, create probability distributions/histograms of the particle velocity/speed distributions. How does this compare to kinetic theory?\n",
    "\n",
    "d.) Modify your MD code now to use a simple thermostat. I am going to recommend implementation of an Andersen thermostat. Confirm that your simulation possesses the target temperature. Demonstrate the statistical equivalence of using MC vs. MD by comparing some set of results you obtained previously with MC with results obtained using MD at the same set of conditions.\n",
    "\n",
    "e.) Estimate the self-diffusion coefficient of a Lennard-Jones particle in a liquid-phase. You should do this usingYou can do this calculation two ways: *(1)* by computing the mean-squared displacment and *(2)* by interating the velocity autocorrelation function. Compare values from the two methods. For this analysis, you should collect statistics during an NVE simulation and perhaps periodically \"reset\" the temperature to a specific target. Why might it be problematic to compute these quantities in the presence of a thermostat?\n",
    "\n",
    "### Task 3. Simulation of a Lennard-Jones Fluid with an MD software\n",
    "\n",
    "**Objective(s):** The goal of this exercise is to gain experience with how to work with more advanced MD software. You will essentially reproduce some subset of results from the prior tasks but using your choice of MD software as the engine to generate results.\n",
    "\n",
    "**Some details/hints:** I would recommend using [LAMMPS](https://www.lammps.org/#gsc.tab=0) or maybe [HOOMD-blue](https://hoomd-blue.readthedocs.io/en/v3.5.0/). Think about what you have needed to implement yourself and let that guide what you search for in the documentation.\n",
    "\n",
    "**Recommended Resource(s)**: Tutorials and documentation pages related to the software.\n",
    "\n",
    "**Target(s)/Questions:** \n",
    "\n",
    "a.) Develop an input file that should drive your simulation. Each command accomplishes something. Annotate/comment how these commands manifested (or not) in the code that you wrote yourself.\n",
    "\n",
    "b.) Demonstrate the equivalence of some result from the chosen software with your \"in-house\" code. What's the comparison in performance (e.g., timesteps per day) between your code and the chosen software?"
   ]
  },
  {
   "cell_type": "markdown",
   "id": "3e9d880f",
   "metadata": {},
   "source": [
    "## B. Fundamentals of Machine Learning\n",
    "\n",
    "To be determined!"
   ]
  },
  {
   "cell_type": "code",
   "execution_count": null,
   "id": "0a2ad9c1",
   "metadata": {},
   "outputs": [],
   "source": []
  },
  {
   "cell_type": "code",
   "execution_count": null,
   "id": "d1181945",
   "metadata": {},
   "outputs": [],
   "source": []
  }
 ],
 "metadata": {
  "kernelspec": {
   "display_name": "Python 3 (ipykernel)",
   "language": "python",
   "name": "python3"
  },
  "language_info": {
   "codemirror_mode": {
    "name": "ipython",
    "version": 3
   },
   "file_extension": ".py",
   "mimetype": "text/x-python",
   "name": "python",
   "nbconvert_exporter": "python",
   "pygments_lexer": "ipython3",
   "version": "3.11.8"
  }
 },
 "nbformat": 4,
 "nbformat_minor": 5
}